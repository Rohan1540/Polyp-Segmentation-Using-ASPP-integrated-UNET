{
 "cells": [
  {
   "cell_type": "code",
   "execution_count": null,
   "id": "712d8a78",
   "metadata": {},
   "outputs": [],
   "source": [
    "import matplotlib.pyplot as plt\n",
    "\n",
    "# Load the training history from the CSV file\n",
    "history = np.genfromtxt('files/data.csv', delimiter=',', names=True)\n",
    "\n",
    "# Find the epoch with the best IoU, Precision, Recall, Loss, and Accuracy\n",
    "best_iou_epoch = np.argmax(history['iou'])\n",
    "best_precision_epoch = np.argmax(history['precision'])\n",
    "best_recall_epoch = np.argmax(history['recall'])\n",
    "best_loss_epoch = np.argmin(history['loss'])\n",
    "best_accuracy_epoch = np.argmax(history['acc'])\n",
    "\n",
    "# Get the corresponding values\n",
    "best_iou = history['iou'][best_iou_epoch]\n",
    "best_precision = history['precision'][best_precision_epoch]\n",
    "best_recall = history['recall'][best_recall_epoch]\n",
    "best_loss = history['loss'][best_loss_epoch]\n",
    "best_accuracy = history['acc'][best_accuracy_epoch]\n",
    "\n",
    "# Print the best metrics\n",
    "print(f\"Best IoU: {best_iou} (Epoch {best_iou_epoch + 1})\")\n",
    "print(f\"Best Precision: {best_precision} (Epoch {best_precision_epoch + 1})\")\n",
    "print(f\"Best Recall: {best_recall} (Epoch {best_recall_epoch + 1})\")\n",
    "print(f\"Best Loss: {best_loss} (Epoch {best_loss_epoch + 1})\")\n",
    "print(f\"Best Accuracy: {best_accuracy} (Epoch {best_accuracy_epoch + 1})\")\n",
    "\n",
    "# Plot the training and validation loss and accuracy\n",
    "plt.figure(figsize=(16, 8))\n",
    "plt.subplot(1, 2, 1)\n",
    "plt.plot(history['loss'], label='Training Loss')\n",
    "plt.plot(history['val_loss'], label='Validation Loss')\n",
    "plt.legend(loc='upper right')\n",
    "plt.title('Training and Validation Loss')\n",
    "\n",
    "plt.subplot(1, 2, 2)\n",
    "plt.plot(history['acc'], label='Training Accuracy')\n",
    "plt.plot(history['val_acc'], label='Validation Accuracy')\n",
    "plt.legend(loc='lower right')\n",
    "plt.title('Training and Validation Accuracy')\n",
    "\n",
    "plt.show()\n"
   ]
  }
 ],
 "metadata": {
  "kernelspec": {
   "display_name": "Python 3 (ipykernel)",
   "language": "python",
   "name": "python3"
  },
  "language_info": {
   "codemirror_mode": {
    "name": "ipython",
    "version": 3
   },
   "file_extension": ".py",
   "mimetype": "text/x-python",
   "name": "python",
   "nbconvert_exporter": "python",
   "pygments_lexer": "ipython3",
   "version": "3.11.3"
  }
 },
 "nbformat": 4,
 "nbformat_minor": 5
}
