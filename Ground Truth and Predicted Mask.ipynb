{
 "cells": [
  {
   "cell_type": "code",
   "execution_count": null,
   "id": "9f299df2",
   "metadata": {},
   "outputs": [],
   "source": [
    "import matplotlib.pyplot as plt\n",
    "import random\n",
    "\n",
    "# Load some test data and make predictions\n",
    "n_samples = 5  # Number of samples to visualize\n",
    "test_samples = random.sample(range(len(test_x)), n_samples)\n",
    "\n",
    "# Define a threshold for binarizing the predicted masks\n",
    "threshold = 0.5\n",
    "\n",
    "for i in test_samples:\n",
    "    # Load and preprocess the test image\n",
    "    test_image = read_image(test_x[i])\n",
    "    test_image = np.expand_dims(test_image, axis=0)\n",
    "\n",
    "    # Make predictions\n",
    "    predicted_mask = model.predict(test_image)\n",
    "\n",
    "    # Binarize the predicted mask using the threshold\n",
    "    predicted_mask = (predicted_mask > threshold).astype(np.uint8)\n",
    "\n",
    "    # Load and preprocess the ground truth mask\n",
    "    ground_truth_mask = read_mask(test_y[i])\n",
    "\n",
    "    # Plot the test image, ground truth mask, and predicted mask\n",
    "    plt.figure(figsize=(12, 4))\n",
    "    plt.subplot(1, 3, 1)\n",
    "    plt.imshow(test_image[0])\n",
    "    plt.title(\"Test Image\")\n",
    "\n",
    "    plt.subplot(1, 3, 2)\n",
    "    plt.imshow(ground_truth_mask[:, :, 0], cmap='gray')\n",
    "    plt.title(\"Ground Truth Mask\")\n",
    "\n",
    "    plt.subplot(1, 3, 3)\n",
    "    plt.imshow(predicted_mask[0, :, :, 0], cmap='gray')\n",
    "    plt.title(\"Predicted Mask\")\n",
    "\n",
    "    plt.show()"
   ]
  }
 ],
 "metadata": {
  "kernelspec": {
   "display_name": "Python 3 (ipykernel)",
   "language": "python",
   "name": "python3"
  },
  "language_info": {
   "codemirror_mode": {
    "name": "ipython",
    "version": 3
   },
   "file_extension": ".py",
   "mimetype": "text/x-python",
   "name": "python",
   "nbconvert_exporter": "python",
   "pygments_lexer": "ipython3",
   "version": "3.11.3"
  }
 },
 "nbformat": 4,
 "nbformat_minor": 5
}
